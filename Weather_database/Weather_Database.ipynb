{
 "cells": [
  {
   "cell_type": "code",
   "execution_count": 2,
   "id": "51eb2b3a",
   "metadata": {},
   "outputs": [],
   "source": [
    "# Import dependencies\n",
    "from citipy import citipy\n",
    "import pandas as pd\n",
    "import numpy as np\n",
    "import json \n",
    "import requests\n",
    "import time\n",
    "\n",
    "import matplotlib.pyplot as plt\n",
    "from datetime import datetime\n",
    "from config import weather_api_key"
   ]
  },
  {
   "cell_type": "code",
   "execution_count": 3,
   "id": "6ca38f57",
   "metadata": {},
   "outputs": [
    {
     "data": {
      "text/plain": [
       "<zip at 0x7fa92981a3c0>"
      ]
     },
     "execution_count": 3,
     "metadata": {},
     "output_type": "execute_result"
    }
   ],
   "source": [
    "# Create a set of random latitude and longitude combinations.\n",
    "lats = np.random.uniform(low=-90.000, high=90.000, size=2000)\n",
    "lngs = np.random.uniform(low=-180.000, high=180.000, size=2000)\n",
    "lat_lngs = zip(lats, lngs)\n",
    "lat_lngs"
   ]
  },
  {
   "cell_type": "code",
   "execution_count": 4,
   "id": "0a9475d1",
   "metadata": {},
   "outputs": [],
   "source": [
    "# Add the latitudes and longitudes to a list.\n",
    "coordinates = list(lat_lngs)"
   ]
  },
  {
   "cell_type": "code",
   "execution_count": 5,
   "id": "0d0f6154",
   "metadata": {},
   "outputs": [
    {
     "data": {
      "text/plain": [
       "756"
      ]
     },
     "execution_count": 5,
     "metadata": {},
     "output_type": "execute_result"
    }
   ],
   "source": [
    "# Create a list for holding the cities.\n",
    "cities = []\n",
    "# Identify the nearest city for each latitude and longitude combination.\n",
    "for coordinate in coordinates:\n",
    "    city = citipy.nearest_city(coordinate[0], coordinate[1]).city_name\n",
    "\n",
    "    # If the city is unique, then we will add it to the cities list.\n",
    "    if city not in cities:\n",
    "        cities.append(city)\n",
    "# Print the city count to confirm sufficient count.\n",
    "len(cities)"
   ]
  },
  {
   "cell_type": "code",
   "execution_count": 6,
   "id": "8aef04fa",
   "metadata": {},
   "outputs": [
    {
     "name": "stdout",
     "output_type": "stream",
     "text": [
      "http://api.openweathermap.org/data/2.5/weather?units=Imperial&APPID=071a9b7f20d73f3590e397c7e43f09b7\n"
     ]
    }
   ],
   "source": [
    "# Starting URL for Weather Map API Call.\n",
    "url = \"http://api.openweathermap.org/data/2.5/weather?units=Imperial&APPID=\" + weather_api_key\n",
    "print(url)"
   ]
  },
  {
   "cell_type": "code",
   "execution_count": null,
   "id": "97b28694",
   "metadata": {},
   "outputs": [
    {
     "name": "stdout",
     "output_type": "stream",
     "text": [
      "Beginning Data Retrieval     \n",
      "-----------------------------\n",
      "Processing Record 1 of Set 1 | rikitea\n",
      "Processing Record 2 of Set 1 | ancud\n",
      "Processing Record 3 of Set 1 | los llanos de aridane\n",
      "Processing Record 4 of Set 1 | saint-philippe\n",
      "Processing Record 5 of Set 1 | ushuaia\n",
      "Processing Record 6 of Set 1 | skagastrond\n",
      "City not found. Skipping...\n",
      "Processing Record 7 of Set 1 | carnarvon\n",
      "Processing Record 8 of Set 1 | tuktoyaktuk\n",
      "Processing Record 9 of Set 1 | anadyr\n",
      "Processing Record 10 of Set 1 | taoudenni\n",
      "Processing Record 11 of Set 1 | wladyslawowo\n",
      "Processing Record 12 of Set 1 | bambous virieux\n",
      "Processing Record 13 of Set 1 | narsaq\n",
      "Processing Record 14 of Set 1 | ponta do sol\n",
      "Processing Record 15 of Set 1 | peace river\n",
      "Processing Record 16 of Set 1 | vaitupu\n",
      "City not found. Skipping...\n",
      "Processing Record 17 of Set 1 | ribeira grande\n",
      "Processing Record 18 of Set 1 | avarua\n",
      "Processing Record 19 of Set 1 | pitimbu\n",
      "Processing Record 20 of Set 1 | mataura\n",
      "Processing Record 21 of Set 1 | busselton\n",
      "Processing Record 22 of Set 1 | halalo\n",
      "City not found. Skipping...\n",
      "Processing Record 23 of Set 1 | bethel\n",
      "Processing Record 24 of Set 1 | san quintin\n",
      "Processing Record 25 of Set 1 | sudova vyshnya\n",
      "Processing Record 26 of Set 1 | pascagoula\n",
      "Processing Record 27 of Set 1 | hermanus\n",
      "Processing Record 28 of Set 1 | awjilah\n",
      "Processing Record 29 of Set 1 | liberia\n",
      "Processing Record 30 of Set 1 | lebu\n",
      "Processing Record 31 of Set 1 | severo-kurilsk\n",
      "Processing Record 32 of Set 1 | kihei\n",
      "Processing Record 33 of Set 1 | tual\n",
      "Processing Record 34 of Set 1 | fort nelson\n",
      "Processing Record 35 of Set 1 | bluff\n",
      "Processing Record 36 of Set 1 | atuona\n",
      "Processing Record 37 of Set 1 | sao filipe\n",
      "Processing Record 38 of Set 1 | pangnirtung\n",
      "Processing Record 39 of Set 1 | llano largo\n",
      "Processing Record 40 of Set 1 | hobart\n",
      "Processing Record 41 of Set 1 | margate\n",
      "Processing Record 42 of Set 1 | vaini\n",
      "Processing Record 43 of Set 1 | taolanaro\n",
      "City not found. Skipping...\n",
      "Processing Record 44 of Set 1 | caravelas\n",
      "Processing Record 45 of Set 1 | cabo san lucas\n",
      "Processing Record 46 of Set 1 | bredasdorp\n",
      "Processing Record 47 of Set 1 | new norfolk\n",
      "Processing Record 48 of Set 1 | rexburg\n",
      "Processing Record 49 of Set 1 | kondinskoye\n",
      "Processing Record 50 of Set 1 | mahebourg\n",
      "Processing Record 1 of Set 2 | port hardy\n",
      "Processing Record 2 of Set 2 | port alfred\n",
      "Processing Record 3 of Set 2 | sioux lookout\n",
      "Processing Record 4 of Set 2 | butaritari\n",
      "Processing Record 5 of Set 2 | jamestown\n",
      "Processing Record 6 of Set 2 | san blas\n",
      "Processing Record 7 of Set 2 | hilo\n",
      "Processing Record 8 of Set 2 | teahupoo\n",
      "Processing Record 9 of Set 2 | nampula\n",
      "Processing Record 10 of Set 2 | luanda\n",
      "Processing Record 11 of Set 2 | belaya gora\n",
      "Processing Record 12 of Set 2 | thompson\n",
      "Processing Record 13 of Set 2 | faanui\n",
      "Processing Record 14 of Set 2 | sorland\n",
      "Processing Record 15 of Set 2 | guapore\n",
      "Processing Record 16 of Set 2 | albany\n",
      "Processing Record 17 of Set 2 | lucea\n",
      "Processing Record 18 of Set 2 | tasiilaq\n",
      "Processing Record 19 of Set 2 | hualmay\n",
      "Processing Record 20 of Set 2 | eureka\n",
      "Processing Record 21 of Set 2 | yeppoon\n",
      "Processing Record 22 of Set 2 | barentsburg\n",
      "City not found. Skipping...\n",
      "Processing Record 23 of Set 2 | saskylakh\n",
      "Processing Record 24 of Set 2 | saleaula\n",
      "City not found. Skipping...\n",
      "Processing Record 25 of Set 2 | punta arenas\n",
      "Processing Record 26 of Set 2 | kodiak\n",
      "Processing Record 27 of Set 2 | barrow\n",
      "Processing Record 28 of Set 2 | khonuu\n",
      "City not found. Skipping...\n",
      "Processing Record 29 of Set 2 | puerto ayora\n",
      "Processing Record 30 of Set 2 | pevek\n",
      "Processing Record 31 of Set 2 | trinidad\n",
      "Processing Record 32 of Set 2 | dikson\n",
      "Processing Record 33 of Set 2 | furano\n",
      "Processing Record 34 of Set 2 | ksenyevka\n",
      "City not found. Skipping...\n",
      "Processing Record 35 of Set 2 | akdepe\n",
      "Processing Record 36 of Set 2 | pakokku\n",
      "Processing Record 37 of Set 2 | hagere selam\n",
      "Processing Record 38 of Set 2 | joshimath\n",
      "Processing Record 39 of Set 2 | cape town\n",
      "Processing Record 40 of Set 2 | provideniya\n",
      "Processing Record 41 of Set 2 | vila velha\n",
      "Processing Record 42 of Set 2 | samusu\n",
      "City not found. Skipping...\n",
      "Processing Record 43 of Set 2 | okato\n",
      "Processing Record 44 of Set 2 | chernyshevskiy\n",
      "Processing Record 45 of Set 2 | oyama\n",
      "Processing Record 46 of Set 2 | leningradskiy\n",
      "Processing Record 47 of Set 2 | sisimiut\n",
      "Processing Record 48 of Set 2 | bandarbeyla\n",
      "Processing Record 49 of Set 2 | namatanai\n",
      "Processing Record 50 of Set 2 | portland\n"
     ]
    }
   ],
   "source": [
    "# Create an empty list to hold the weather data.\n",
    "city_data = []\n",
    "\n",
    "# Print the beginning of the logging.\n",
    "print(\"Beginning Data Retrieval     \")\n",
    "print(\"-----------------------------\")\n",
    "\n",
    "# Create counters.\n",
    "record_count = 1\n",
    "set_count = 1\n",
    "\n",
    "# Loop through all the cities in the list.\n",
    "for i, city in enumerate(cities):\n",
    "\n",
    "    # Group cities in sets of 50 for logging purposes.\n",
    "    if (i % 50 == 0 and i >= 50):\n",
    "        set_count += 1\n",
    "        record_count = 1\n",
    "        time.sleep(60)\n",
    "\n",
    "    # Create endpoint URL with each city.\n",
    "    city_url = url + \"&q=\" + city.replace(\" \",\"+\")\n",
    "\n",
    "    # Log the URL, record, and set numbers and the city.\n",
    "    print(f\"Processing Record {record_count} of Set {set_count} | {city}\")\n",
    "    # Add 1 to the record count.\n",
    "    record_count += 1\n",
    "    \n",
    "# Run an API request for each of the cities.\n",
    "    try:\n",
    "        # Parse the JSON and retrieve data.\n",
    "        city_weather = requests.get(city_url).json()\n",
    "        # Parse out the needed data.\n",
    "        city_lat = city_weather[\"coord\"][\"lat\"]\n",
    "        city_lng = city_weather[\"coord\"][\"lon\"]\n",
    "        city_max_temp = city_weather[\"main\"][\"temp_max\"]\n",
    "        city_humidity = city_weather[\"main\"][\"humidity\"]\n",
    "        city_clouds = city_weather[\"clouds\"][\"all\"]\n",
    "        city_wind = city_weather[\"wind\"][\"speed\"]\n",
    "        city_country = city_weather[\"sys\"][\"country\"]\n",
    "        city_weather_description=city_weather[\"weather\"][0][\"description\"]\n",
    "        # Append the city information into city_data list.\n",
    "        city_data.append({\"City\": city.title(),\n",
    "                          \"Country\": city_country,\n",
    "                          \"Lat\": city_lat,\n",
    "                          \"Lng\": city_lng,\n",
    "                          \"Max Temp\": city_max_temp,\n",
    "                          \"Humidity\": city_humidity,\n",
    "                          \"Cloudiness\": city_clouds,\n",
    "                          \"Wind Speed\": city_wind,\n",
    "                          \"Current Description\":city_weather_description})\n",
    "                         \n",
    "\n",
    "# If an error is experienced, skip the city.\n",
    "    except:\n",
    "        print(\"City not found. Skipping...\")\n",
    "        pass\n",
    "\n",
    "# Indicate that Data Loading is complete.\n",
    "print(\"-----------------------------\")\n",
    "print(\"Data Retrieval Complete      \")\n",
    "print(\"-----------------------------\")"
   ]
  },
  {
   "cell_type": "code",
   "execution_count": null,
   "id": "45dbf373",
   "metadata": {
    "scrolled": true
   },
   "outputs": [],
   "source": [
    "#convert the arry of dictonaries to a pandas Dataframe.\n",
    "city_data_df = pd.DataFrame(city_data)\n",
    "city_data_df.head(10)"
   ]
  },
  {
   "cell_type": "code",
   "execution_count": null,
   "id": "10cb0694",
   "metadata": {},
   "outputs": [],
   "source": [
    "#Export the dataframe to csv file.\n",
    "city_data_df.to_csv(\"/Users/khagenkadariya/World_Weather_Analysis/Weather_data/WeatherPy_database.csv\")"
   ]
  },
  {
   "cell_type": "code",
   "execution_count": null,
   "id": "cccd6a43",
   "metadata": {},
   "outputs": [],
   "source": []
  }
 ],
 "metadata": {
  "kernelspec": {
   "display_name": "Python 3 (ipykernel)",
   "language": "python",
   "name": "python3"
  },
  "language_info": {
   "codemirror_mode": {
    "name": "ipython",
    "version": 3
   },
   "file_extension": ".py",
   "mimetype": "text/x-python",
   "name": "python",
   "nbconvert_exporter": "python",
   "pygments_lexer": "ipython3",
   "version": "3.9.7"
  }
 },
 "nbformat": 4,
 "nbformat_minor": 5
}
